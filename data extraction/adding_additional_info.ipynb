{
 "cells": [
  {
   "cell_type": "code",
   "execution_count": null,
   "metadata": {},
   "outputs": [],
   "source": [
    "# adding [job_order_for_user] column to raw dataset\n",
    "# job_order_for_user: ordering each person's jobs in chronological order\n",
    "\n",
    "import pandas as pd\n",
    "\n",
    "file_name = 'hidden'\n",
    "data = pd.read_csv(file_name, low_memory = False, index_col = 0)\n",
    "print(data.columns)"
   ]
  },
  {
   "cell_type": "code",
   "execution_count": null,
   "metadata": {},
   "outputs": [],
   "source": [
    "print(data.columns)"
   ]
  },
  {
   "cell_type": "code",
   "execution_count": null,
   "metadata": {},
   "outputs": [],
   "source": [
    "data['job_order_for_user'] = data.groupby(\"person_identifier\")['started_on'].rank(axis = 0, method = 'min', ascending = True)"
   ]
  },
  {
   "cell_type": "code",
   "execution_count": null,
   "metadata": {},
   "outputs": [],
   "source": [
    "temp = data[data['person_identifier'] == '461e1ead-0308-277e-f62c-57137d5284a3']\n",
    "print(temp[['title', 'started_on', 'job_order_for_user']])"
   ]
  },
  {
   "cell_type": "code",
   "execution_count": null,
   "metadata": {},
   "outputs": [],
   "source": [
    "new_file_name = 'hidden'\n",
    "data.to_csv(new_file_name)"
   ]
  }
 ],
 "metadata": {
  "kernelspec": {
   "display_name": "Python 3.10.0 64-bit",
   "language": "python",
   "name": "python3"
  },
  "language_info": {
   "codemirror_mode": {
    "name": "ipython",
    "version": 3
   },
   "file_extension": ".py",
   "mimetype": "text/x-python",
   "name": "python",
   "nbconvert_exporter": "python",
   "pygments_lexer": "ipython3",
   "version": "3.10.8"
  },
  "orig_nbformat": 4,
  "vscode": {
   "interpreter": {
    "hash": "77802085aab8c37bdce3409d9441b84fc57e6168b0d9abbdab72f1c43fb36842"
   }
  }
 },
 "nbformat": 4,
 "nbformat_minor": 2
}
