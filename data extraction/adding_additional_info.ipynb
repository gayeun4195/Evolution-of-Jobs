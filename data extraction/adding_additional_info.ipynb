{
 "cells": [
  {
   "cell_type": "code",
   "execution_count": 8,
   "metadata": {},
   "outputs": [
    {
     "name": "stdout",
     "output_type": "stream",
     "text": [
      "Index(['job_type', 'updated_at', 'uuid', 'started_on', 'created_at',\n",
      "       'is_current', 'title', 'ended_on', 'person_identifier'],\n",
      "      dtype='object')\n"
     ]
    }
   ],
   "source": [
    "# adding [job_order_for_user] column to raw dataset\n",
    "# job_order_for_user: ordering each person's jobs in chronological order\n",
    "\n",
    "import pandas as pd\n",
    "\n",
    "file_name = 'hidden'\n",
    "data = pd.read_csv(file_name, low_memory = False, index_col = 0)\n",
    "print(data.columns)"
   ]
  },
  {
   "cell_type": "code",
   "execution_count": 9,
   "metadata": {},
   "outputs": [
    {
     "name": "stdout",
     "output_type": "stream",
     "text": [
      "Index(['job_type', 'updated_at', 'uuid', 'started_on', 'created_at',\n",
      "       'is_current', 'title', 'ended_on', 'person_identifier'],\n",
      "      dtype='object')\n"
     ]
    }
   ],
   "source": [
    "print(data.columns)"
   ]
  },
  {
   "cell_type": "code",
   "execution_count": 10,
   "metadata": {},
   "outputs": [],
   "source": [
    "data['job_order_for_user'] = data.groupby(\"person_identifier\")['started_on'].rank(axis = 0, method = 'min', ascending = True)"
   ]
  },
  {
   "cell_type": "code",
   "execution_count": 16,
   "metadata": {},
   "outputs": [
    {
     "name": "stdout",
     "output_type": "stream",
     "text": [
      "                                                     title  \\\n",
      "2                                                 Director   \n",
      "73563                         Founder & Executive Chairman   \n",
      "103045                                       Founder & CEO   \n",
      "117027                                  Board of Directors   \n",
      "155453                                       Founder & CEO   \n",
      "179059                                        Board Member   \n",
      "205135                        ​Founder & Chairman Emeritus   \n",
      "487210                                            Chairman   \n",
      "607418                                            Chairman   \n",
      "631959                                      Board Director   \n",
      "633515                                  Board of Directors   \n",
      "718458                                       Vice Chairman   \n",
      "824111                                    Managing Partner   \n",
      "908349                                            Chairman   \n",
      "942855                                       Founder & CEO   \n",
      "952420                               Co-Founder & Chairman   \n",
      "979631                                        Board Member   \n",
      "1053754                              Chairman of the board   \n",
      "1105853                              Chairman of the Board   \n",
      "1657117                                           Director   \n",
      "1671505                                                CEO   \n",
      "1700212                                           Chairman   \n",
      "1729954                Founder and Chief Executive Officer   \n",
      "2160718                                            Advisor   \n",
      "2201690                                           Chairman   \n",
      "2265312  Associate Founder & Founding Track Chair, Fina...   \n",
      "\n",
      "                  started_on  job_order_for_user  \n",
      "2        2004-01-01 00:00:00                 5.0  \n",
      "73563    2019-12-01 00:00:00                15.0  \n",
      "103045   1981-10-01 00:00:00                 1.0  \n",
      "117027                   NaN                 NaN  \n",
      "155453   1988-01-01 00:00:00                 3.0  \n",
      "179059   2017-05-01 00:00:00                13.0  \n",
      "205135   2004-01-01 00:00:00                 5.0  \n",
      "487210   2007-01-01 00:00:00                 8.0  \n",
      "607418   2008-01-01 00:00:00                10.0  \n",
      "631959                   NaN                 NaN  \n",
      "633515                   NaN                 NaN  \n",
      "718458                   NaN                 NaN  \n",
      "824111   1999-12-01 00:00:00                 4.0  \n",
      "908349   2007-01-01 00:00:00                 8.0  \n",
      "942855   2019-01-01 00:00:00                14.0  \n",
      "952420                   NaN                 NaN  \n",
      "979631                   NaN                 NaN  \n",
      "1053754  2021-12-02 00:00:00                16.0  \n",
      "1105853  2012-07-01 00:00:00                12.0  \n",
      "1657117  1986-01-01 00:00:00                 2.0  \n",
      "1671505  2004-01-01 00:00:00                 5.0  \n",
      "1700212                  NaN                 NaN  \n",
      "1729954                  NaN                 NaN  \n",
      "2160718                  NaN                 NaN  \n",
      "2201690                  NaN                 NaN  \n",
      "2265312  2009-01-01 00:00:00                11.0  \n"
     ]
    }
   ],
   "source": [
    "temp = data[data['person_identifier'] == '461e1ead-0308-277e-f62c-57137d5284a3']\n",
    "print(temp[['title', 'started_on', 'job_order_for_user']])"
   ]
  },
  {
   "cell_type": "code",
   "execution_count": 17,
   "metadata": {},
   "outputs": [],
   "source": [
    "new_file_name = 'hidden'\n",
    "data.to_csv(new_file_name)"
   ]
  }
 ],
 "metadata": {
  "kernelspec": {
   "display_name": "Python 3.10.0 64-bit",
   "language": "python",
   "name": "python3"
  },
  "language_info": {
   "codemirror_mode": {
    "name": "ipython",
    "version": 3
   },
   "file_extension": ".py",
   "mimetype": "text/x-python",
   "name": "python",
   "nbconvert_exporter": "python",
   "pygments_lexer": "ipython3",
   "version": "3.10.8"
  },
  "orig_nbformat": 4,
  "vscode": {
   "interpreter": {
    "hash": "77802085aab8c37bdce3409d9441b84fc57e6168b0d9abbdab72f1c43fb36842"
   }
  }
 },
 "nbformat": 4,
 "nbformat_minor": 2
}
