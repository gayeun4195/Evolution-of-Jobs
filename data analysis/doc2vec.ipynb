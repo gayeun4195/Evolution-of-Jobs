{
 "cells": [
  {
   "cell_type": "code",
   "execution_count": 184,
   "metadata": {},
   "outputs": [],
   "source": [
    "# apply doc2vec (using title, description columns)\n",
    "# tried to cluster job titles\n",
    "\n",
    "from gensim.models.doc2vec import Doc2Vec, TaggedDocument\n",
    "from tensorflow.keras.preprocessing.text import text_to_word_sequence"
   ]
  },
  {
   "cell_type": "code",
   "execution_count": 185,
   "metadata": {},
   "outputs": [],
   "source": [
    "import pandas as pd\n",
    "\n",
    "file_name = 'hidden'\n",
    "data = pd.read_csv(file_name, low_memory = False, index_col = 0)"
   ]
  },
  {
   "cell_type": "code",
   "execution_count": 186,
   "metadata": {},
   "outputs": [],
   "source": [
    "documents = {}\n",
    "\n",
    "def extract_titles (row):\n",
    "    global documents\n",
    "    if row['description'] and row['description'] == row['description']:\n",
    "        documents[row['title']] = text_to_word_sequence(row['description'])"
   ]
  },
  {
   "cell_type": "code",
   "execution_count": 187,
   "metadata": {},
   "outputs": [
    {
     "data": {
      "text/plain": [
       "0      None\n",
       "1      None\n",
       "2      None\n",
       "3      None\n",
       "4      None\n",
       "       ... \n",
       "495    None\n",
       "496    None\n",
       "497    None\n",
       "498    None\n",
       "499    None\n",
       "Length: 500, dtype: object"
      ]
     },
     "execution_count": 187,
     "metadata": {},
     "output_type": "execute_result"
    }
   ],
   "source": [
    "data.apply(extract_titles, axis=1)"
   ]
  },
  {
   "cell_type": "code",
   "execution_count": 188,
   "metadata": {},
   "outputs": [
    {
     "name": "stderr",
     "output_type": "stream",
     "text": [
      "[nltk_data] Downloading package stopwords to\n",
      "[nltk_data]     C:\\Users\\gaeun\\AppData\\Roaming\\nltk_data...\n",
      "[nltk_data]   Package stopwords is already up-to-date!\n"
     ]
    },
    {
     "data": {
      "text/plain": [
       "True"
      ]
     },
     "execution_count": 188,
     "metadata": {},
     "output_type": "execute_result"
    }
   ],
   "source": [
    "import nltk\n",
    "nltk.download('stopwords')"
   ]
  },
  {
   "cell_type": "code",
   "execution_count": 189,
   "metadata": {},
   "outputs": [],
   "source": [
    "# from title_analysis_keras.ipynb\n",
    "real_symbol_list = ['ş', '8', '₿', '•', '·', 'z', '\\xad', '5', 'r', 'p', 'o', 'n', '◆', '►', '🔎', 'g', '1', '4', '6', '9', 'y', '●', '∞', '\\xa0', 'f', \"'\", 'u', 'ר', '0', '⇉', '−', 'm', '\\u200e', 'à', '»', '🤫', '＆', '¦', 'k', 'b', '\\x96', 'l', 'i', '➟', '✦', 't', '➢', '7', '§', 'в', '‐', '➲', 'j', '★', '\\u202c', 'd', '\\u200b', 'c', 'e', '◊', '—', '«', 'w', '∙', '\\x03', 'v', 'ι', '↔', '♛', '⇒', '♦', '3', '➣', '™', '│', 'и', '–', 'h', 'q']\n",
    "\n",
    "from os import remove\n",
    "from nltk.corpus import stopwords\n",
    "\n",
    "word_list = []\n",
    "stop_words = set(stopwords.words('english'))\n",
    "\n",
    "for key, description in documents.items():\n",
    "    new_description = []\n",
    "    for word in description:\n",
    "        if word not in stop_words and word not in real_symbol_list:\n",
    "            new_description.append(word)\n",
    "        documents[key] = new_description"
   ]
  },
  {
   "cell_type": "code",
   "execution_count": 190,
   "metadata": {},
   "outputs": [],
   "source": [
    "titles = []\n",
    "for title, description in documents.items():\n",
    "    titles.append(title)\n",
    "\n",
    "indexed_titles = []\n",
    "for i in range(len(titles)):\n",
    "    new_title = str(i) + \"_\" + titles[i]\n",
    "    indexed_titles.append(new_title)"
   ]
  },
  {
   "cell_type": "code",
   "execution_count": 191,
   "metadata": {},
   "outputs": [],
   "source": [
    "train = [TaggedDocument(words = documents[titles[i]], tags = titles[i]) for i in range(len(titles))]"
   ]
  },
  {
   "cell_type": "code",
   "execution_count": 192,
   "metadata": {},
   "outputs": [],
   "source": [
    "model = Doc2Vec(vector_size = 10, window = 3, epochs = 40, min_count = 1)\n",
    "model.build_vocab(train)\n",
    "model.train(train, total_examples=len(train), epochs=50)"
   ]
  },
  {
   "cell_type": "code",
   "execution_count": 193,
   "metadata": {},
   "outputs": [],
   "source": [
    "inferreds = []\n",
    "\n",
    "for i in range(len(titles)):\n",
    "    inferred = model.infer_vector(documents[titles[i]])\n",
    "    inferreds.append(inferred)"
   ]
  },
  {
   "cell_type": "code",
   "execution_count": 194,
   "metadata": {},
   "outputs": [
    {
     "data": {
      "image/png": "[encoded data removed]",
      "text/plain": [
       "<Figure size 432x288 with 1 Axes>"
      ]
     },
     "metadata": {
      "needs_background": "light"
     },
     "output_type": "display_data"
    }
   ],
   "source": [
    "from sklearn.cluster import KMeans\n",
    "import matplotlib.pyplot as plt\n",
    "\n",
    "inertia = []\n",
    "for i in range(1, 11):\n",
    "    model = KMeans(n_clusters=i)\n",
    "    model.fit(inferreds)\n",
    "    inertia.append(model.inertia_)\n",
    "\n",
    "plt.plot(range(1, 11), inertia)\n",
    "plt.show()"
   ]
  },
  {
   "cell_type": "code",
   "execution_count": 195,
   "metadata": {},
   "outputs": [
    {
     "data": {
      "text/plain": [
       "KMeans(n_clusters=2)"
      ]
     },
     "execution_count": 195,
     "metadata": {},
     "output_type": "execute_result"
    }
   ],
   "source": [
    "n = 2\n",
    "\n",
    "clustering = KMeans(n_clusters=n)\n",
    "clustering.fit(inferreds)"
   ]
  },
  {
   "cell_type": "code",
   "execution_count": 196,
   "metadata": {},
   "outputs": [
    {
     "data": {
      "text/plain": [
       "{0: ['Founder & CEO',\n",
       "  'Director',\n",
       "  'President/Chief Executive Officer',\n",
       "  'Owner & Founder',\n",
       "  'Head Of Operations',\n",
       "  'Advisor',\n",
       "  'Product Lead',\n",
       "  'Managing Director',\n",
       "  'Investor',\n",
       "  'Partner & CEO',\n",
       "  'CEO',\n",
       "  'Director CFO',\n",
       "  'Chief Financial Officer',\n",
       "  'CEO and Chairman',\n",
       "  'Principal',\n",
       "  'Corporate Development',\n",
       "  'Co-founder',\n",
       "  'Founder',\n",
       "  'Co-Founder and Owner',\n",
       "  'General Counsel',\n",
       "  'Co-founder, Managing Partner, Software SME',\n",
       "  'Member of the Board of Trustees',\n",
       "  'General Manager',\n",
       "  'Chief Scientific Officer',\n",
       "  'Non Executive Director',\n",
       "  'President and Chief Executive Officer',\n",
       "  'Managing Director - UK & Europe',\n",
       "  'Founder, Managing Director of Strategy & Corporate Development',\n",
       "  'Founder and CEO',\n",
       "  'VP Development',\n",
       "  'Technology Director of Identity Services',\n",
       "  'Founder & COO',\n",
       "  'Director of Business Development, DNA Production',\n",
       "  'CFO',\n",
       "  'Co-founder & Director',\n",
       "  'Faculty',\n",
       "  'Operations Manager',\n",
       "  'Chief Technology Officer',\n",
       "  'Technology Broker',\n",
       "  'Audit Senior Amanger',\n",
       "  'Co-Founder & CEO',\n",
       "  'Managing Director, Trust Counsel and National Head of Trust and Estates',\n",
       "  'Founder, CMO & CSO',\n",
       "  'Clinical Assistant Professor',\n",
       "  'Lead Physician & Founder',\n",
       "  'Technical Advisor',\n",
       "  'VP of Marketing',\n",
       "  'Senior Advisor',\n",
       "  'Director of Engineering',\n",
       "  'Fund Manager',\n",
       "  'Koch Board Member',\n",
       "  'Principal Consultant',\n",
       "  'Chairman of the Board',\n",
       "  'Chairman',\n",
       "  'Senior Vice President, Special Projects',\n",
       "  'Sr. Product Manager, Consumer News',\n",
       "  'Director Of Engineering, Backend',\n",
       "  'Co-Founder',\n",
       "  'Advisors',\n",
       "  'User Experience Designer',\n",
       "  'Chief Operating Officer',\n",
       "  'Chief Executive Officer',\n",
       "  'president',\n",
       "  'Board of Directors and Executive Committee',\n",
       "  'Executive in Residence',\n",
       "  'VP of Sales',\n",
       "  'Executive Vice President, Europe, Middle East, Africa, Russia, Global Operations, Cross Industries',\n",
       "  'Strategic Advisor',\n",
       "  'Co-Founder & Executive Chef',\n",
       "  'Chief Executive Officer, President, Board Member and Co-Founder',\n",
       "  'Partner',\n",
       "  'VP of Purchasing Advocates',\n",
       "  'Co-Founder & Chief Technology Officer',\n",
       "  'Venture Analyst',\n",
       "  'Co-Founder, Chief Executive Officer & Board Member',\n",
       "  'Owner',\n",
       "  'Co-Founder and CTO',\n",
       "  'CEO and President',\n",
       "  'Business Project Manager',\n",
       "  'Founder, Managing Director & Principal Psychologist',\n",
       "  'Product Group Lead - Payments',\n",
       "  'Marketing Director',\n",
       "  'Planner',\n",
       "  'Firmwide Media Relations Manager',\n",
       "  'IT Engineer',\n",
       "  'Vice President Operations',\n",
       "  'Co-Founder and CFO',\n",
       "  'Manager',\n",
       "  'External Consultant - New Product Development, Hult International Business School',\n",
       "  'Head of Midstream Energy, Senior Vice President',\n",
       "  'Board',\n",
       "  'Vice President, Research & Development, Collaboration',\n",
       "  'Co-Founder, Product',\n",
       "  'Director of Finance',\n",
       "  'Attorney in the Investment Management Group',\n",
       "  'Protocol Specialist (Coop)',\n",
       "  'VP creator experience',\n",
       "  'Senior Associate',\n",
       "  'Various Positions',\n",
       "  'Co-Founder, COO & Head of Product',\n",
       "  'Chief Executive Officer & Co-Founder',\n",
       "  'Head of MEA & Turkey',\n",
       "  'Head of Financial Control',\n",
       "  'EVP - International',\n",
       "  'Data Scientist (apprenticeship)',\n",
       "  'Contributing Writer',\n",
       "  'Venture Partner',\n",
       "  'Co-Founder & Chief Marketing Officer',\n",
       "  'Board of Advisor',\n",
       "  'Executive Assistant',\n",
       "  'Mentor',\n",
       "  'Community Organizer and WordPress Design Contributor',\n",
       "  'National Advisory Committee on Innovation & Entrepreneurship',\n",
       "  'Angel Investor',\n",
       "  'Executive Vice President of Human Resources',\n",
       "  'Co-Founder and CEO',\n",
       "  'Head of US Operations',\n",
       "  'CEO and Co-Founder',\n",
       "  'Board Observer',\n",
       "  'Chief Editor',\n",
       "  'Team Member',\n",
       "  'Head of Data Science, Trust',\n",
       "  'Medical Director',\n",
       "  'Co-Founder & President',\n",
       "  'Payment Architect',\n",
       "  'CTO',\n",
       "  'Chief Product Officer',\n",
       "  'Head of Business and Strategy, Co-Founder and CEO',\n",
       "  'Owner, CEO & President',\n",
       "  'Corporate Chief Information Officer',\n",
       "  'Professor',\n",
       "  'Co-founder & Chief Executive Officer',\n",
       "  'CMO, Co-Founder',\n",
       "  'CEO & Co-Founder',\n",
       "  'President, CEO & CFO',\n",
       "  'Co-Founder, President, and Principal',\n",
       "  'Analyst',\n",
       "  'Founder and Consumer Product Events',\n",
       "  'President & Founder',\n",
       "  'President / Founder',\n",
       "  'Founder & Chief Executive',\n",
       "  'Engineering Manager',\n",
       "  'Chile Member Node',\n",
       "  'Vice President, Software Platform',\n",
       "  'Program Manager'],\n",
       " 1: ['President & CEO',\n",
       "  'CEO and Founder',\n",
       "  'Business Innovation & Design Thinking Coach',\n",
       "  'CEO & Founder',\n",
       "  'Member of the Board of Directors',\n",
       "  'Product Manager',\n",
       "  'Staff Accountant Intern',\n",
       "  'Charter Member',\n",
       "  'Board Member',\n",
       "  'Founder & Chief Executive Officer',\n",
       "  'Head of Product & Co-Founder',\n",
       "  'Associate Advertising Manager, Laundry & Cleaning - Italy',\n",
       "  'Member & Supervisory Board',\n",
       "  'President',\n",
       "  'Chief Architect',\n",
       "  'General Manager of the Children’s Music Brand',\n",
       "  'Senior Vice President, Sales & Marketing',\n",
       "  'VP Business Development',\n",
       "  'Founder & Director, Molecular Biology',\n",
       "  'VP Marketing',\n",
       "  'Director Systems Toxicology',\n",
       "  'Director of Medical Virtual Reality, Institute for Creative Technologies',\n",
       "  'Executive Director, Citizen Schools Texas',\n",
       "  'Regional Sales & Marketing Leader',\n",
       "  'Working Board Member',\n",
       "  'CFO & MD, Debt Recovery',\n",
       "  'Business Development Director',\n",
       "  'Executive Board',\n",
       "  'Senior Vice President',\n",
       "  'Founder & Chief Product Officer',\n",
       "  'News Producer, Radio Leeds',\n",
       "  'Founder & Managing Director',\n",
       "  'Research Director, Demand Creation Strategies',\n",
       "  'UX Designer',\n",
       "  'Deputy Chairperson',\n",
       "  'Non-executive Chairman',\n",
       "  'Founding Member',\n",
       "  'Consulting Director',\n",
       "  'Trainee Fund Manager',\n",
       "  'Senior Director, Product Management',\n",
       "  'Co-Founder & Chief Executive Officer',\n",
       "  'Management',\n",
       "  'Advanced Technology Engineer',\n",
       "  'Chairman of the Board of Directors',\n",
       "  'Sales Head at Singapore Office',\n",
       "  'Director Product Development and Technologies',\n",
       "  'Tech Support Agent',\n",
       "  'SVP of Business Development',\n",
       "  'Chief Strategy Officer',\n",
       "  'Board director',\n",
       "  'Vice President, CFO Client Services Group, Head of Pricing Strategy',\n",
       "  'Director, Insights & Strategy',\n",
       "  'VP of Sales and Operations - The Americas',\n",
       "  'Principal Owner and Agent',\n",
       "  'Managing Director & Founder',\n",
       "  'President and CEO',\n",
       "  'Chief Marketing Officer',\n",
       "  'Director of Systems Engineering',\n",
       "  'Board of Directors',\n",
       "  'Chief Operating Officer, Deputy Chief Executive Officer, General Manager - Board of Directors member',\n",
       "  'New York City Branch Manager',\n",
       "  'COO',\n",
       "  'Head of GTM Strategy, Adobe Campaign',\n",
       "  'Senior positions',\n",
       "  'Vice President of Human Resources',\n",
       "  'Senior Management and Sales Positions',\n",
       "  'Founder & CEO - Shadow Puppet Brewing Company',\n",
       "  'Founder and Managing Partner',\n",
       "  'Executive Vice President for Business Development',\n",
       "  'Member of Board of Directors']}"
      ]
     },
     "execution_count": 196,
     "metadata": {},
     "output_type": "execute_result"
    }
   ],
   "source": [
    "cluster_dict = {i:[] for i in range(0, n)}\n",
    "for i in range(len(titles)):\n",
    "    cluster_dict[clustering.labels_[i]].append(titles[i])\n",
    "\n",
    "cluster_dict"
   ]
  }
 ],
 "metadata": {
  "kernelspec": {
   "display_name": "Python 3.10.0 64-bit",
   "language": "python",
   "name": "python3"
  },
  "language_info": {
   "codemirror_mode": {
    "name": "ipython",
    "version": 3
   },
   "file_extension": ".py",
   "mimetype": "text/x-python",
   "name": "python",
   "nbconvert_exporter": "python",
   "pygments_lexer": "ipython3",
   "version": "3.10.8"
  },
  "orig_nbformat": 4,
  "vscode": {
   "interpreter": {
    "hash": "77802085aab8c37bdce3409d9441b84fc57e6168b0d9abbdab72f1c43fb36842"
   }
  }
 },
 "nbformat": 4,
 "nbformat_minor": 2
}
